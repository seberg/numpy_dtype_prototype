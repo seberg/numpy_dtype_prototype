{
 "cells": [
  {
   "cell_type": "markdown",
   "metadata": {},
   "source": [
    "### Note that all casting logic is handled by the new classes (although they do fall back to the numpy logic instead of duplicating it)."
   ]
  },
  {
   "cell_type": "code",
   "execution_count": 1,
   "metadata": {},
   "outputs": [
    {
     "data": {
      "text/plain": [
       "array([1, 2, 3, 4])\n",
       "    -- BasicNumericDType(int64)"
      ]
     },
     "execution_count": 1,
     "metadata": {},
     "output_type": "execute_result"
    }
   ],
   "source": [
    "import proto_numpy as np\n",
    "\n",
    "\n",
    "arr = np.array([1, 2, 3, 4])\n",
    "arr"
   ]
  },
  {
   "cell_type": "code",
   "execution_count": 2,
   "metadata": {},
   "outputs": [],
   "source": [
    "meters = np.UnitDType(\"float64\", \"m\")"
   ]
  },
  {
   "cell_type": "code",
   "execution_count": 3,
   "metadata": {},
   "outputs": [
    {
     "data": {
      "text/plain": [
       "False"
      ]
     },
     "execution_count": 3,
     "metadata": {},
     "output_type": "execute_result"
    }
   ],
   "source": [
    "np.can_cast(arr.dtype, meters)  # actually can cast dtype right now"
   ]
  },
  {
   "cell_type": "code",
   "execution_count": 4,
   "metadata": {},
   "outputs": [
    {
     "data": {
      "text/plain": [
       "True"
      ]
     },
     "execution_count": 4,
     "metadata": {},
     "output_type": "execute_result"
    }
   ],
   "source": [
    "np.can_cast(arr.dtype, meters, casting=\"unsafe\")"
   ]
  },
  {
   "cell_type": "code",
   "execution_count": 5,
   "metadata": {},
   "outputs": [
    {
     "name": "stdout",
     "output_type": "stream",
     "text": [
      "UnitDType(float64, 'm') [1. 2. 3. 4.]\n"
     ]
    },
    {
     "data": {
      "text/plain": [
       "array([1., 2., 3., 4.])\n",
       "    -- UnitDType(float64, 'm')"
      ]
     },
     "execution_count": 5,
     "metadata": {},
     "output_type": "execute_result"
    }
   ],
   "source": [
    "arr.astype(meters)"
   ]
  },
  {
   "cell_type": "code",
   "execution_count": 6,
   "metadata": {},
   "outputs": [
    {
     "name": "stdout",
     "output_type": "stream",
     "text": [
      "BasicNumericDType(float64) [1. 2. 3. 4.]\n",
      "[BasicNumericDType(int64), BasicNumericDType(float64), None]\n",
      "(<class 'proto_numpy.dtypes.BasicNumericDType'>, <class 'proto_numpy.dtypes.BasicNumericDType'>, None)\n"
     ]
    },
    {
     "data": {
      "text/plain": [
       "array([2., 4., 6., 8.])\n",
       "    -- BasicNumericDType(float64)"
      ]
     },
     "execution_count": 6,
     "metadata": {},
     "output_type": "execute_result"
    }
   ],
   "source": [
    "np.add(arr, arr.astype(\"float64\"))"
   ]
  },
  {
   "cell_type": "markdown",
   "metadata": {},
   "source": [
    "### Python scalar discovery works:"
   ]
  },
  {
   "cell_type": "code",
   "execution_count": 7,
   "metadata": {},
   "outputs": [
    {
     "name": "stdout",
     "output_type": "stream",
     "text": [
      "[BasicNumericDType(uint8), PyIntDescriptor(128, 128), None]\n",
      "(<class 'proto_numpy.dtypes.BasicNumericDType'>, <class 'proto_numpy.dtypes.BasicNumericDType'>, None)\n"
     ]
    },
    {
     "data": {
      "text/plain": [
       "array([129, 130, 131], dtype=uint8)\n",
       "    -- BasicNumericDType(uint8)"
      ]
     },
     "execution_count": 7,
     "metadata": {},
     "output_type": "execute_result"
    }
   ],
   "source": [
    "np.add(np.array([1, 2, 3], dtype=np.dtype(\"uint8\")), 128)"
   ]
  },
  {
   "cell_type": "markdown",
   "metadata": {},
   "source": [
    "In principle this would also work for a list inside the array to use the minimal dtype:"
   ]
  },
  {
   "cell_type": "code",
   "execution_count": 20,
   "metadata": {},
   "outputs": [
    {
     "data": {
      "text/plain": [
       "PyIntDescriptor(-5, 3)"
      ]
     },
     "execution_count": 20,
     "metadata": {},
     "output_type": "execute_result"
    }
   ],
   "source": [
    "int_descr = np.discover_arr_dtype([1, 2, 3, -5], default_dtype=False, scalar_only=False)\n",
    "int_descr"
   ]
  },
  {
   "cell_type": "markdown",
   "metadata": {},
   "source": [
    "But it is not a valid/finalized datatype:"
   ]
  },
  {
   "cell_type": "code",
   "execution_count": 21,
   "metadata": {},
   "outputs": [
    {
     "data": {
      "text/plain": [
       "False"
      ]
     },
     "execution_count": 21,
     "metadata": {},
     "output_type": "execute_result"
    }
   ],
   "source": [
    "np.dtype_is_finalized(int_descr)"
   ]
  },
  {
   "cell_type": "markdown",
   "metadata": {},
   "source": [
    "Although for most things, aas of now, it will just be converted to a default one. *Note that users should not have the opportunity to use this \"dtype\"! A user will never actually see the above dtype, because they are used only internally. In principle, a user may, however, see similar more abstract dtypes to cast to a certain group, say `np.blasable` for float32 or float64.*"
   ]
  },
  {
   "cell_type": "markdown",
   "metadata": {},
   "source": [
    "### Unit + Unit, checks for identical units (just strings) and then reuses the normal implementation:"
   ]
  },
  {
   "cell_type": "code",
   "execution_count": 10,
   "metadata": {},
   "outputs": [
    {
     "name": "stdout",
     "output_type": "stream",
     "text": [
      "UnitDType(int8, 'm') [1 2 3 4]\n",
      "UnitDType(float64, 'm') [1. 2. 3. 4.]\n",
      "[UnitDType(int8, 'm'), UnitDType(float64, 'm'), None]\n",
      "(<class 'proto_numpy.dtypes.UnitDType'>, <class 'proto_numpy.dtypes.UnitDType'>, None)\n",
      "[BasicNumericDType(int8), BasicNumericDType(float64), None]\n",
      "[BasicNumericDType(int8), BasicNumericDType(float64), None]\n",
      "(<class 'proto_numpy.dtypes.BasicNumericDType'>, <class 'proto_numpy.dtypes.BasicNumericDType'>, None)\n",
      "here: (BasicNumericDType(float64), BasicNumericDType(float64), BasicNumericDType(float64))\n"
     ]
    },
    {
     "data": {
      "text/plain": [
       "array([2., 4., 6., 8.])\n",
       "    -- UnitDType(float64, 'm')"
      ]
     },
     "execution_count": 10,
     "metadata": {},
     "output_type": "execute_result"
    }
   ],
   "source": [
    "# note that the first one is promoted correctly, general numpy promotion works:\n",
    "np.add(arr.astype(np.UnitDType(\"int8\", \"m\")), arr.astype(meters))"
   ]
  },
  {
   "cell_type": "markdown",
   "metadata": {},
   "source": [
    "### As of now, I have not implemented mixed loops:"
   ]
  },
  {
   "cell_type": "code",
   "execution_count": 8,
   "metadata": {},
   "outputs": [
    {
     "name": "stdout",
     "output_type": "stream",
     "text": [
      "UnitDType(float64, 'm') [1. 2. 3. 4.]\n",
      "[BasicNumericDType(int64), UnitDType(float64, 'm'), None]\n",
      "(<class 'proto_numpy.dtypes.BasicNumericDType'>, <class 'proto_numpy.dtypes.UnitDType'>, None)\n"
     ]
    },
    {
     "ename": "TypeError",
     "evalue": "no matching loop found for (BasicNumericDType(int64), UnitDType(float64, 'm'), None).",
     "output_type": "error",
     "traceback": [
      "\u001b[0;31m---------------------------------------------------------------------------\u001b[0m",
      "\u001b[0;31mTypeError\u001b[0m                                 Traceback (most recent call last)",
      "\u001b[0;32m<ipython-input-8-135f25842a41>\u001b[0m in \u001b[0;36m<module>\u001b[0;34m()\u001b[0m\n\u001b[0;32m----> 1\u001b[0;31m \u001b[0mnp\u001b[0m\u001b[0;34m.\u001b[0m\u001b[0madd\u001b[0m\u001b[0;34m(\u001b[0m\u001b[0marr\u001b[0m\u001b[0;34m,\u001b[0m \u001b[0marr\u001b[0m\u001b[0;34m.\u001b[0m\u001b[0mastype\u001b[0m\u001b[0;34m(\u001b[0m\u001b[0mmeters\u001b[0m\u001b[0;34m)\u001b[0m\u001b[0;34m)\u001b[0m\u001b[0;34m\u001b[0m\u001b[0;34m\u001b[0m\u001b[0m\n\u001b[0m",
      "\u001b[0;32m/home/sebastian/BIDS/dtypes/numpy_dtype_prototype/proto_numpy/umath.py\u001b[0m in \u001b[0;36m__call__\u001b[0;34m(self, arr1, arr2, out)\u001b[0m\n\u001b[1;32m     83\u001b[0m \u001b[0;34m\u001b[0m\u001b[0m\n\u001b[1;32m     84\u001b[0m         \u001b[0;31m# May be cacheable:\u001b[0m\u001b[0;34m\u001b[0m\u001b[0;34m\u001b[0m\u001b[0;34m\u001b[0m\u001b[0m\n\u001b[0;32m---> 85\u001b[0;31m         \u001b[0mdtypes\u001b[0m\u001b[0;34m,\u001b[0m \u001b[0mufunc_impl\u001b[0m \u001b[0;34m=\u001b[0m \u001b[0mself\u001b[0m\u001b[0;34m.\u001b[0m\u001b[0mresolve_loop\u001b[0m\u001b[0;34m(\u001b[0m\u001b[0mdtypes\u001b[0m\u001b[0;34m)\u001b[0m\u001b[0;34m\u001b[0m\u001b[0;34m\u001b[0m\u001b[0m\n\u001b[0m\u001b[1;32m     86\u001b[0m \u001b[0;34m\u001b[0m\u001b[0m\n\u001b[1;32m     87\u001b[0m         \u001b[0;32mfor\u001b[0m \u001b[0mi\u001b[0m\u001b[0;34m,\u001b[0m \u001b[0mdisc\u001b[0m \u001b[0;32min\u001b[0m \u001b[0menumerate\u001b[0m\u001b[0;34m(\u001b[0m\u001b[0mdiscovered\u001b[0m\u001b[0;34m)\u001b[0m\u001b[0;34m:\u001b[0m\u001b[0;34m\u001b[0m\u001b[0;34m\u001b[0m\u001b[0m\n",
      "\u001b[0;32m/home/sebastian/BIDS/dtypes/numpy_dtype_prototype/proto_numpy/umath.py\u001b[0m in \u001b[0;36mresolve_loop\u001b[0;34m(self, dtypes, specified_dtypes)\u001b[0m\n\u001b[1;32m     64\u001b[0m                 \u001b[0;32mreturn\u001b[0m \u001b[0mresolver\u001b[0m\u001b[0;34m(\u001b[0m\u001b[0mdtypes\u001b[0m\u001b[0;34m)\u001b[0m\u001b[0;34m\u001b[0m\u001b[0;34m\u001b[0m\u001b[0m\n\u001b[1;32m     65\u001b[0m \u001b[0;34m\u001b[0m\u001b[0m\n\u001b[0;32m---> 66\u001b[0;31m         \u001b[0;32mraise\u001b[0m \u001b[0mTypeError\u001b[0m\u001b[0;34m(\u001b[0m\u001b[0;34mf\"no matching loop found for {tuple(dtypes)}.\"\u001b[0m\u001b[0;34m)\u001b[0m\u001b[0;34m\u001b[0m\u001b[0;34m\u001b[0m\u001b[0m\n\u001b[0m\u001b[1;32m     67\u001b[0m \u001b[0;34m\u001b[0m\u001b[0m\n\u001b[1;32m     68\u001b[0m     \u001b[0;32mdef\u001b[0m \u001b[0m__call__\u001b[0m\u001b[0;34m(\u001b[0m\u001b[0mself\u001b[0m\u001b[0;34m,\u001b[0m \u001b[0marr1\u001b[0m\u001b[0;34m,\u001b[0m \u001b[0marr2\u001b[0m\u001b[0;34m,\u001b[0m \u001b[0mout\u001b[0m\u001b[0;34m=\u001b[0m\u001b[0;32mNone\u001b[0m\u001b[0;34m)\u001b[0m\u001b[0;34m:\u001b[0m\u001b[0;34m\u001b[0m\u001b[0;34m\u001b[0m\u001b[0m\n",
      "\u001b[0;31mTypeError\u001b[0m: no matching loop found for (BasicNumericDType(int64), UnitDType(float64, 'm'), None)."
     ]
    }
   ],
   "source": [
    "# Not implemented as of now, so it raises an error:\n",
    "np.add(arr, arr.astype(meters))"
   ]
  }
 ],
 "metadata": {
  "kernelspec": {
   "display_name": "Python 3",
   "language": "python",
   "name": "python3"
  },
  "language_info": {
   "codemirror_mode": {
    "name": "ipython",
    "version": 3
   },
   "file_extension": ".py",
   "mimetype": "text/x-python",
   "name": "python",
   "nbconvert_exporter": "python",
   "pygments_lexer": "ipython3",
   "version": "3.7.3"
  }
 },
 "nbformat": 4,
 "nbformat_minor": 2
}
